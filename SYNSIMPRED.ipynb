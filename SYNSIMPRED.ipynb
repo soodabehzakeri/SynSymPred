{
  "cells": [
    {
      "cell_type": "code",
      "execution_count": 57,
      "metadata": {
        "id": "AqDnBIEolxOI"
      },
      "outputs": [],
      "source": [
        "# Import the libraries\n",
        "import numpy as np\n",
        "import pandas as pd\n",
        "import matplotlib.pyplot as plt\n",
        "import seaborn as sns\n",
        "%matplotlib inline\n",
        "from sklearn.metrics import roc_auc_score, average_precision_score\n",
        "from sklearn.metrics import roc_curve, precision_recall_curve\n",
        "import matplotlib.pyplot as plt"
      ]
    },
    {
      "cell_type": "code",
      "execution_count": 58,
      "metadata": {
        "colab": {
          "base_uri": "https://localhost:8080/"
        },
        "id": "n09HNgYVl_PE",
        "outputId": "0fa774c0-76d9-43b4-d54d-38febd6ea256"
      },
      "outputs": [
        {
          "output_type": "stream",
          "name": "stdout",
          "text": [
            "Drive already mounted at /content/drive; to attempt to forcibly remount, call drive.mount(\"/content/drive\", force_remount=True).\n"
          ]
        }
      ],
      "source": [
        "from google.colab import drive\n",
        "drive.mount('/content/drive')"
      ]
    },
    {
      "cell_type": "code",
      "execution_count": 59,
      "metadata": {
        "id": "3XwejTj5U9a6"
      },
      "outputs": [],
      "source": [
        "loewe = pd.read_csv(\"/content/drive/MyDrive/CellLine/oneilaverageloewe.csv\")"
      ]
    },
    {
      "cell_type": "code",
      "execution_count": 60,
      "metadata": {
        "id": "dXQsc9u8S5QS"
      },
      "outputs": [],
      "source": [
        "# loewe = pd.read_csv(\"/content/drive/MyDrive/depmap cells/loewe.csv\")\n",
        "# loewe = pd.read_csv(\"/content/drive/MyDrive/depmap cells/deepsynloewe.csv\")\n",
        "rna = pd.read_csv(\"/content/drive/MyDrive/depmap cells/rna.csv\")\n",
        "mut = pd.read_csv(\"/content/drive/MyDrive/depmap cells/MUTFINAL.csv\")\n",
        "cnv = pd.read_csv(\"/content/drive/MyDrive/depmap cells/cnv.csv\")\n",
        "dep= pd.read_csv(\"/content/drive/MyDrive/depmap cells/dependency.csv\")\n"
      ]
    },
    {
      "cell_type": "code",
      "execution_count": 61,
      "metadata": {
        "id": "1-6IGRq719Ai"
      },
      "outputs": [],
      "source": [
        "mut = pd.read_csv(\"/content/drive/MyDrive/depmap cells/MUTFINAL.csv\")"
      ]
    },
    {
      "cell_type": "code",
      "execution_count": 62,
      "metadata": {
        "id": "G49QvK8uTpqi"
      },
      "outputs": [],
      "source": [
        "#for bliss-loewe-...\n",
        "CELL=[\"KPL1\",\"ZR751\",\"COLO320DM\",\"DLD1\",\"LNCAP\", \"A375\", \"A427\", \"ES2\", \"HCT116\", \"MDAMB436\", \"OV90\", \"RKO\", \"RPMI7951\", \"T47D\", 'UWB1289', 'VCAP', 'CAOV3', 'NCIH460',\"A2058\",\"A2780\",\"HT144\",\"HT29\",\"LOVO\",\"MSTO\",\"NCIH1650\",\"NCIH2122\",\"NCIH23\",\"NCIH520\",\"OVCAR3\",\"PA1\",\"SKMEL30\",\"SKMES1\",\"SKOV3\",\"SW620\",\n",
        "\"SW837\",\"UACC62\"]"
      ]
    },
    {
      "cell_type": "code",
      "execution_count": 63,
      "metadata": {
        "id": "gHJVLVprU5uB"
      },
      "outputs": [],
      "source": [
        "#for rna-cnv-...\n",
        "cell=[\"KPL1\",\"ZR751\",\"COLO320\",\"DLD1\",\"LNCAPCLONEFGC\", \"A375\", \"A427\", \"ES2\", \"HCT116\", \"MDAMB436\", \"OV90\", \"RKO\", \"RPMI7951\", \"T47D\", 'UWB1289', 'VCAP', 'CAOV3', 'NCIH460',\"A2058\",\"A2780\",\"HT144\",\"HT29\",\"LOVO\",\"MSTO211H\",\"NCIH1650\",\"NCIH2122\",\"NCIH23\",\"NCIH520\",\"OVCAR3\",\"PA1\",\"SKMEL30\",\"SKMES1\",\"SKOV3\",\"SW620\",\n",
        "\"SW837\",\"UACC62\"]"
      ]
    },
    {
      "cell_type": "code",
      "execution_count": 64,
      "metadata": {
        "id": "FGm_v-VTUCLt"
      },
      "outputs": [],
      "source": [
        "cellsp=sorted(CELL)\n",
        "cellsr=sorted(cell)"
      ]
    },
    {
      "cell_type": "code",
      "execution_count": 65,
      "metadata": {
        "id": "TnCvSlLGUDgL"
      },
      "outputs": [],
      "source": [
        "loewe=loewe[cellsp]\n",
        "rna=rna[cellsr]\n",
        "cnv=cnv[cellsr]\n",
        "mut=mut[cellsr]\n",
        "dep=dep[cellsr]"
      ]
    },
    {
      "cell_type": "code",
      "execution_count": 66,
      "metadata": {
        "id": "P-zpO5wbLUTj"
      },
      "outputs": [],
      "source": [
        "loewe.columns = range(loewe.shape[1])"
      ]
    },
    {
      "cell_type": "code",
      "execution_count": 67,
      "metadata": {
        "id": "goUyVqrHx8sn"
      },
      "outputs": [],
      "source": [
        "global q,t\n",
        "q=[0 for i in range(7)]\n",
        "t=[0 for i in range(7)]\n",
        "def NO(mat):\n",
        "  mat = pd.DataFrame(mat)\n",
        "  LEN=len(mat.iloc[:,0])\n",
        "  N =pd.DataFrame(0.0, index=range(LEN), columns=range(LEN))\n",
        "  K = np.empty((LEN,LEN), dtype=float, order='C')\n",
        "  for i in range(LEN):\n",
        "    for j in range(LEN):\n",
        "      N[i][j] = np.linalg.norm(mat.iloc[i,:]-mat.iloc[j,:])\n",
        "  for i in range(LEN):\n",
        "    for j in range(LEN):\n",
        "      if N.iloc[i,j]>600:\n",
        "        N.iloc[i,j]=600\n",
        "  for i in range(LEN):\n",
        "    for j in range(LEN):\n",
        "      N.iloc[i,j] = 600-N.iloc[i,j]\n",
        "  N=np.array(N)\n",
        "  return(N)"
      ]
    },
    {
      "cell_type": "code",
      "execution_count": 68,
      "metadata": {
        "id": "ZTcgTP9edLkz"
      },
      "outputs": [],
      "source": [
        "loewenorm =NO(loewe.T)"
      ]
    },
    {
      "cell_type": "code",
      "execution_count": 69,
      "metadata": {
        "id": "Q8tnLu2WnmO5"
      },
      "outputs": [],
      "source": [
        "def sim_mut(x,y):\n",
        "  mutcor =  np.empty((np.shape(x)[0], np.shape(y)[0]))\n",
        "  for i in range(np.shape(x)[0]):\n",
        "    for j in range(np.shape(y)[0]):\n",
        "      m11 = m10= m01=0\n",
        "      for k in range(len(x[0,:])):\n",
        "          #print(len(x[0,:]))\n",
        "          if y[j,k]==1 and x[i,k]==1:\n",
        "            m11=m11+1\n",
        "          elif y[j,k]==0 and x[i,k]==1:\n",
        "            m10=m10+1\n",
        "          elif x[i,k]==0 and y[j,k]==1:\n",
        "            m01=m01+1\n",
        "      if(m11+m10+m01)!=0:\n",
        "        mutcor[i][j]=float(float(m11)/float(m11+m10+m01))\n",
        "      else:\n",
        "        #print(i,j,k)\n",
        "        mutcor[i][j] = 0\n",
        "  return mutcor"
      ]
    },
    {
      "cell_type": "code",
      "execution_count": 70,
      "metadata": {
        "id": "HGsDen2onnJa"
      },
      "outputs": [],
      "source": [
        "mut = mut.to_numpy().T"
      ]
    },
    {
      "cell_type": "code",
      "execution_count": 71,
      "metadata": {
        "id": "K4lyHXFrw848"
      },
      "outputs": [],
      "source": [
        "mutcorr=sim_mut(mut,mut)"
      ]
    },
    {
      "cell_type": "code",
      "execution_count": 72,
      "metadata": {
        "id": "dH08r8bv4G3X"
      },
      "outputs": [],
      "source": [
        "rnacorr=rna.corr()\n",
        "cnvcorr=cnv.corr()\n",
        "depcorr=dep.corr()"
      ]
    },
    {
      "cell_type": "code",
      "execution_count": 73,
      "metadata": {
        "id": "O8STPh18iPz2"
      },
      "outputs": [],
      "source": [
        "rna = rna.to_numpy().T\n",
        "cnv = cnv.to_numpy().T\n",
        "dep = dep.to_numpy().T"
      ]
    },
    {
      "cell_type": "code",
      "execution_count": 74,
      "metadata": {
        "id": "x8us1pPL7NcM"
      },
      "outputs": [],
      "source": [
        "import scipy.stats\n",
        "import numpy as np\n",
        "\n",
        "def naive_pearson_cor(X, Y):\n",
        "    result = np.zeros(shape=(X.shape[1], Y.shape[1]))\n",
        "    for i in range(X.shape[1]):\n",
        "      for j in range(Y.shape[1]):\n",
        "          r, _ = scipy.stats.pearsonr(X[:,i], Y[:,j])\n",
        "          result[i,j] = r\n",
        "    return result"
      ]
    },
    {
      "cell_type": "code",
      "execution_count": 75,
      "metadata": {
        "id": "n40g4op28PQX"
      },
      "outputs": [],
      "source": [
        "from sklearn.metrics.pairwise import paired_manhattan_distances\n",
        "import copy\n",
        "from sklearn.metrics import precision_score\n",
        "from sklearn.metrics import average_precision_score, precision_recall_curve\n",
        "# from sklearn.metrics import auc, plot_precision_recall_curve\n",
        "import matplotlib.pyplot as plt\n",
        "def Threshold(Pred , cri):\n",
        "  #print(len(cri))\n",
        "  tp = 0\n",
        "  fp = 0\n",
        "  tn = 0\n",
        "  fn = 0\n",
        "  c1=0\n",
        "  c0=0\n",
        "  c=0\n",
        "  P=[]\n",
        "  C = []\n",
        "  for i in range(len(Pred)):\n",
        "    #i = i*3\n",
        "    if Pred[i] > 0:\n",
        "      P.append(1)\n",
        "    else:\n",
        "      P.append(0)\n",
        "  for j in cri:\n",
        "    if j > 0:\n",
        "      C.append(1)\n",
        "    else:\n",
        "      C.append(0)\n",
        "  for k in range(len(P)):\n",
        "    if P[k] == 1 and C[k] == 1:\n",
        "      tp +=1\n",
        "    if P[k] == 1 and C[k] != 1:\n",
        "      fp +=1\n",
        "    if P[k] !=1 and C[k] != 1:\n",
        "      tn +=1\n",
        "    if P[k] != 1 and C[k] == 1:\n",
        "      fn +=1\n",
        "  TP.append(tp)\n",
        "  FP.append(fp)\n",
        "  TN.append(tn)\n",
        "  FN.append(fn)\n",
        "  v = tp/(tp+fp)\n",
        "  d = tp/(tp+fn)\n",
        "  pre.append(tp/(tp+fp))\n",
        "  R.append(tp/(tp+fn))\n",
        "  kappa = (2*((tp*tn)-(fn*fp)))/(((tp+fp)*(fp+tn))+((tp+fn)*(fn+tn)))\n",
        "  KAP.append(kappa)\n",
        "  F.append(2*((v*d)/(v+d)))"
      ]
    },
    {
      "cell_type": "code",
      "execution_count": 76,
      "metadata": {
        "id": "NQLBSIwebGgQ"
      },
      "outputs": [],
      "source": [
        "from scipy import stats"
      ]
    },
    {
      "cell_type": "code",
      "execution_count": 77,
      "metadata": {
        "id": "o6DomySEn-n8"
      },
      "outputs": [],
      "source": [
        "def nearest(k,x,index,cri,trvia):\n",
        "# nearest(pred.T,X_train,test_index,X,train_index)\n",
        "  cri = pd.DataFrame(cri)\n",
        "  MSEM=0.0\n",
        "  global cells\n",
        "  global s\n",
        "  global cls\n",
        "  for i in range(len(k)):\n",
        "    m1=0\n",
        "    mse=0\n",
        "    l=0\n",
        "    r=0\n",
        "    G=[]\n",
        "    pos=0\n",
        "    neg=0\n",
        "    trind=[]\n",
        "    trsyn=[]\n",
        "\n",
        "    s=[]\n",
        "    cls=[0] * len(x[0])\n",
        "    s=[]\n",
        "    for l in range(len(x[0])):\n",
        "      ind = np.argpartition(k[i], -18)[-18:]\n",
        "      NEI=18\n",
        "      top = k[i][ind]\n",
        "      trind= trvia[ind]\n",
        "      pos=0\n",
        "      neg=0\n",
        "      m=0\n",
        "      m1=0\n",
        "      trsyn=[]\n",
        "      sort=pd.DataFrame()\n",
        "      After =pd.DataFrame()\n",
        "      for ppp in range(len(trind)):\n",
        "        trsyn.append(cri.iloc[trind[ppp],l])\n",
        "      for pp in range(len(trind)):\n",
        "        sort.loc[0,pp]= ind[pp]\n",
        "        sort.loc[1,pp]=trind[pp]\n",
        "        sort.loc[2,pp]=trsyn[pp]\n",
        "      sort=sort.sort_values(by=2, ascending=False, axis=1)\n",
        "      sort = pd.DataFrame(sort.values, columns = range(18) )\n",
        "      co=0\n",
        "      for qq in range(int(NEI/4), int(NEI*(3/4)+1)):\n",
        "        After.loc[0,co]=sort.loc[0,qq]\n",
        "        After.loc[1,co]=sort.loc[2,qq]\n",
        "        co+=1\n",
        "      ind=After.iloc[0,:]\n",
        "      ind = np.asarray(ind, dtype = 'int')\n",
        "      top = k[i][ind]\n",
        "      for h in range(len(top)):\n",
        "        m1 += top[h]\n",
        "\n",
        "      m=0\n",
        "      for j in range(len(ind)):\n",
        "        m += top[j]*x[ind[j],l]\n",
        "        y=m/m1\n",
        "      s.append(y)\n",
        "    mse =mean_squared_error(s,cri.iloc[index[i],:])\n",
        "\n",
        "    MSEM += mse\n",
        "    cells[index[i]] = s\n",
        "    P.append(mse)\n",
        "    coef,value = scipy.stats.pearsonr(s,cri.iloc[index[i],:])\n",
        "    COEF.append(coef)\n",
        "    VALUE.append(value)\n",
        "    Threshold(s,cri.iloc[index[i],:])\n",
        "    sum=0\n",
        "\n",
        "    for lll in range(len(s)):\n",
        "      sum += abs(cri.iloc[index[i],lll] - s[lll])\n",
        "    error = sum/len(s)\n",
        "    MAE.append(error)\n",
        "    est,value = stats.pearsonr(s,cri.iloc[index[i],:])\n",
        "    pearsonr.append(est)\n",
        "    est1,value=stats.spearmanr(s,cri.iloc[index[i],:])\n",
        "    spearmanr.append(est1)"
      ]
    },
    {
      "cell_type": "code",
      "execution_count": 78,
      "metadata": {
        "id": "rT3f3yN9oX6P"
      },
      "outputs": [],
      "source": [
        "def store_np(data, filename):\n",
        "  cols = np.arange(data.shape[1])\n",
        "  index = np.arange(data.shape[0])\n",
        "  df = pd.DataFrame(np.array(data), index=index, columns=cols)\n",
        "  df.to_csv(filename)"
      ]
    },
    {
      "cell_type": "code",
      "execution_count": 79,
      "metadata": {
        "id": "tVRsEyUd43yN"
      },
      "outputs": [],
      "source": [
        "def SYNcombination(T1,T2,NORM):\n",
        "  L=len(T1)*len(T2)\n",
        "  com= np.zeros(L)\n",
        "  CO=0\n",
        "  for i in range(len(T1)):\n",
        "    for j in range(len(T2)):\n",
        "      com[CO]= NORM[i,j]\n",
        "      CO=CO+1\n",
        "\n",
        "  return com"
      ]
    },
    {
      "cell_type": "code",
      "execution_count": 80,
      "metadata": {
        "id": "RGxtbj7Pqhmg"
      },
      "outputs": [],
      "source": [
        "def traincombination(R,M,C,D):\n",
        "  l = len(R[0,:])\n",
        "  ll=len(R[0,:])\n",
        "\n",
        "  p = (l*ll)\n",
        "  colcounter = 0\n",
        "  Xtrain = np.zeros([int(l*8),int(p)])\n",
        "  for i in range(l):\n",
        "    for j in range(l):\n",
        "      x = np.append(R[:,i],(M[:,i],C[:,i],D[:,i],R[:,j],M[:,j],C[:,j],D[:,j]))\n",
        "      Xtrain[:,colcounter] = x\n",
        "      colcounter=colcounter+1\n",
        "\n",
        "  return Xtrain"
      ]
    },
    {
      "cell_type": "code",
      "execution_count": 81,
      "metadata": {
        "id": "WSnyhaKiHLsn"
      },
      "outputs": [],
      "source": [
        "def testcombination(rtr,mtr,ctr,dtr,rts,mts,cts,dts):\n",
        "  l = len(rtr[0,:])\n",
        "\n",
        "  ll=len(rts[0,:])\n",
        "\n",
        "  p = (l*ll)\n",
        "  colcounter = 0\n",
        "  Xtrain = np.zeros([int(l*8),int(p)])\n",
        "  for i in range(l):\n",
        "    for j in range(ll):\n",
        "      x = np.append(rtr[:,i],(mtr[:,i],ctr[:,i],dtr[:,i],rts[:,j],mts[:,j],cts[:,j],dts[:,j]))\n",
        "      Xtrain[:,colcounter] = x\n",
        "      colcounter=colcounter+1\n",
        "  return Xtrain\n"
      ]
    },
    {
      "cell_type": "code",
      "execution_count": 82,
      "metadata": {
        "id": "Usvm4ltQ4aUC"
      },
      "outputs": [],
      "source": [
        "from keras.models import Sequential\n",
        "from keras.layers import Dense, Input, Dropout\n",
        "from keras.callbacks import ModelCheckpoint\n",
        "def NNN(Xtrain,Xtest,Ytrain,Ytest):\n",
        "\n",
        "  model = Sequential()\n",
        "  model.add(Input(shape=(216,)))\n",
        "  model.add(Dense(128, activation='relu'))\n",
        "  model.add(Dense(64, activation='relu'))\n",
        "  #model.add(Dropout(.25))\n",
        "  model.add(Dense(32, activation='relu'))\n",
        "  #model.add(Dropout(.25))\n",
        "  model.add(Dense(16, activation='relu'))\n",
        "  model.add(Dense(1))\n",
        "\n",
        "  model.compile('adam', 'mse')\n",
        "  model.fit(Xtrain, Ytrain, epochs=200)\n",
        "  model.predict(Xtest)\n",
        "  return(model.predict(Xtest))"
      ]
    },
    {
      "cell_type": "code",
      "execution_count": 83,
      "metadata": {
        "id": "BgLvnbZZuZgP"
      },
      "outputs": [],
      "source": [
        "from sklearn.model_selection import KFold\n",
        "from sklearn.linear_model import LinearRegression\n",
        "from sklearn.metrics import mean_squared_error\n",
        "import scipy.stats\n",
        "import numpy as np\n",
        "\n",
        "#/content/drive/MyDrive/Kfold/\n",
        "\n",
        "def CrossVal(X,splits=6):\n",
        "  global mut\n",
        "  global cnv\n",
        "  global rna\n",
        "  global dep\n",
        "  global eff\n",
        "  X=np.array(X.T)\n",
        "  kf = KFold(n_splits=splits,shuffle=False)\n",
        "  for train_index, test_index in kf.split(mut):\n",
        "    # train_index = np.array([0,1,2,3,4,5,7,8,9,10,11,12,13,15,16,18,19,20,21,22,28,29,30,32,33,34,35])\n",
        "    # test_index = np.array([23,24,25,27,26,31,6,17])\n",
        "\n",
        "    rna_train, rna_test = rna[train_index],rna[test_index]\n",
        "    rna_trainf = pd.DataFrame(rna_train)\n",
        "    rna_train_corr = rna_trainf.T.corr()\n",
        "    rna_train_corr=np.array(rna_train_corr).reshape(-1)\n",
        "    # print(rna_train_corr.shape)\n",
        "    cnv_train, cnv_test = cnv[train_index],cnv[test_index]\n",
        "    cnv_trainf = pd.DataFrame(cnv_train)\n",
        "    cnv_train_corr = cnv_trainf.T.corr()\n",
        "    cnv_train_corr=np.array(cnv_train_corr).reshape(-1)\n",
        "\n",
        "    dep_train, dep_test = dep[train_index],dep[test_index]\n",
        "    dep_trainf = pd.DataFrame(dep_train)\n",
        "    dep_train_corr = dep_trainf.T.corr()\n",
        "    dep_train_corr=np.array(dep_train_corr).reshape(-1)\n",
        "\n",
        "    mut_train, mut_test = mut[train_index],mut[test_index]\n",
        "    mut_train_corr =sim_mut(mut_train,mut_train).reshape(-1)\n",
        "\n",
        "    X_train, X_test = X[train_index],X[test_index]\n",
        "    X_train_corr = NO(X_train).reshape(-1)\n",
        "    # input_train= traincombination(rna_train_corr,mut_train_corr,cnv_train_corr,dep_train_corr)\n",
        "    input_train = np.vstack((mut_train_corr,dep_train_corr)).T\n",
        "    # input_train = np.vstack((mut_train_corr)).T\n",
        "    modelb = LinearRegression().fit(input_train,X_train_corr)\n",
        "    # print(\"coeff:\", modell.coef_, modell.intercept_)\n",
        "    rnacorr = naive_pearson_cor(rna_train.T,rna_test.T).reshape(-1)\n",
        "    rnacorr = np.nan_to_num(rnacorr)\n",
        "\n",
        "    cnvcorr = naive_pearson_cor(cnv_train.T,cnv_test.T).reshape(-1)\n",
        "    depcorr = naive_pearson_cor(dep_train.T,dep_test.T).reshape(-1)\n",
        "    depcorr = np.nan_to_num(depcorr)\n",
        "\n",
        "    mutcorr = sim_mut(mut_train,mut_test).reshape(-1)\n",
        "    # input_test = np.vstack((rnacorr,mutcorr,cnvcorr,depcorr)).T\n",
        "    input_test = np.vstack((mutcorr,depcorr)).T\n",
        "    pred1 = modelb.predict(input_test)\n",
        "    pred = np. reshape(pred1, (len(train_index), len(test_index)))\n",
        "    nearest(pred.T,X_train,test_index,X,train_index)\n",
        "\n",
        "\n",
        "\n",
        "  return"
      ]
    },
    {
      "cell_type": "code",
      "execution_count": 84,
      "metadata": {
        "colab": {
          "base_uri": "https://localhost:8080/"
        },
        "id": "FWUkH-e8VlGq",
        "outputId": "b4356fb5-74ad-4e9c-f305-bfeb9c2b47a3"
      },
      "outputs": [
        {
          "output_type": "stream",
          "name": "stdout",
          "text": [
            "precision: 0.7034707904396339\n",
            "recall: 0.6523567679117237\n",
            "f score 0.6719575707288438\n",
            "MSE: 149.27918156530683\n",
            "PEARSON: 0.6442931517252847\n",
            "SPEARMAN: 0.6413229483565528\n",
            "TP 156.88888888888889\n",
            "TN 273.6666666666667\n",
            "FP 66.30555555555556\n",
            "FN 86.13888888888889\n"
          ]
        }
      ],
      "source": [
        "from numpy.ma.core import count\n",
        "from statistics import mean\n",
        "import time\n",
        "global Z\n",
        "global P\n",
        "AUC=[]\n",
        "AUPR=[]\n",
        "MAE=[]\n",
        "pearsonr=[]\n",
        "spearmanr=[]\n",
        "P=[]\n",
        "orgP=[]\n",
        "COEF=[]\n",
        "VALUE=[]\n",
        "global PER\n",
        "PER=[]\n",
        "global pre\n",
        "global KAP\n",
        "global R\n",
        "global F\n",
        "global TP\n",
        "global FP\n",
        "global TN\n",
        "global FN\n",
        "cells = pd.DataFrame()\n",
        "CLS=pd.DataFrame()\n",
        "#=np.array([,])\n",
        "for Q in range(1):\n",
        "  pre=[]\n",
        "  R=[]\n",
        "  KAP=[]\n",
        "  #cells=[]\n",
        "  F=[]\n",
        "  TP =[]\n",
        "  TN =[]\n",
        "  FP =[]\n",
        "  FN =[]\n",
        "  FFSC=[]\n",
        "  FMSE=[]\n",
        "  FPRE=[]\n",
        "  FREC=[]\n",
        "  FPEASON=[]\n",
        "  FSPE=[]\n",
        "  CrossVal(loewe)\n",
        "  FMSE.append(mean(P))\n",
        "  FFSC.append(mean(F))\n",
        "  FREC.append(mean(R))\n",
        "  FPRE.append(mean(pre))\n",
        "  FPEASON.append(mean(pearsonr))\n",
        "  FSPE.append(mean(spearmanr))\n",
        "print('precision:',mean(pre))\n",
        "print('recall:',mean(FREC))\n",
        "print('f score',mean(FFSC))\n",
        "print('MSE:',mean(FMSE))\n",
        "print('PEARSON:',mean(FPEASON))\n",
        "print('SPEARMAN:',mean(FSPE))\n",
        "print('TP',mean(TP))\n",
        "print('TN',mean(TN))\n",
        "print('FP',mean(FP))\n",
        "print('FN',mean(FN))"
      ]
    }
  ],
  "metadata": {
    "colab": {
      "provenance": []
    },
    "kernelspec": {
      "display_name": "Python 3",
      "name": "python3"
    },
    "language_info": {
      "name": "python"
    }
  },
  "nbformat": 4,
  "nbformat_minor": 0
}